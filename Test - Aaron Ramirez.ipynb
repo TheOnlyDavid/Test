{
 "cells": [
  {
   "cell_type": "markdown",
   "id": "cc7e9c73-8fca-4a53-96b3-99932bcdc968",
   "metadata": {
    "tags": []
   },
   "source": [
    "# TEST TASK SOLUTION\n",
    "\n",
    "###### By Aaron Ramirez\n",
    "\n",
    "Analyze the following dataset and provide your summary represented by charts and written\n",
    "conclusions.\n",
    "Add follow-up questions if any for further/deeper analysis, and share recommendations to adjust\n",
    "the process.\n",
    "RAW Data\n",
    "Hiring Process Steps\n",
    "1. Intro Call with Recruiter\n",
    "2. Test Task\n",
    "3. Technical Interview\n",
    "4. Client Interview\n",
    "5. Signing SOW\n",
    "6. Hired\n",
    "\n",
    "Vocabulary\n",
    "\n",
    "● TT - Test Task\n",
    "● TI - Technical Interview\n",
    "● CI - Client Interview"
   ]
  },
  {
   "cell_type": "markdown",
   "id": "fb43660e-9024-4d14-a083-3ad3870260c8",
   "metadata": {},
   "source": [
    "## Basic understanding & preparation"
   ]
  },
  {
   "cell_type": "markdown",
   "id": "98a68cd9-5e97-40ba-a568-cb3401213636",
   "metadata": {},
   "source": [
    "We'll start by preparing our data so we can work with it and extract all the useful information we need so we can make good business decissions based on that. For this purpose, we'll need to import certain common libraries, prepare the data and, most importantly, understand our data set so we know what we're working with."
   ]
  },
  {
   "cell_type": "code",
   "execution_count": 1,
   "id": "db54f73f-3bfc-4d5d-90d2-7a2aa1ddf684",
   "metadata": {},
   "outputs": [],
   "source": [
    "#Import libraries\n",
    "import pandas as pd\n",
    "import numpy as np\n",
    "import matplotlib.pyplot as plt\n",
    "import seaborn as sns"
   ]
  },
  {
   "cell_type": "code",
   "execution_count": 2,
   "id": "85221a84-373a-48f6-bcd7-e24d9debeef2",
   "metadata": {},
   "outputs": [],
   "source": [
    "#File reading\n",
    "file_path = '/Users/aaron/Downloads/TT RAW Data.xlsx'\n",
    "df = pd.read_excel(file_path, dtype={'Candidate ID': 'str'})"
   ]
  },
  {
   "cell_type": "code",
   "execution_count": 3,
   "id": "1bbaacb6-ba83-42b4-a016-7cbfda7b13af",
   "metadata": {},
   "outputs": [
    {
     "data": {
      "text/html": [
       "<div>\n",
       "<style scoped>\n",
       "    .dataframe tbody tr th:only-of-type {\n",
       "        vertical-align: middle;\n",
       "    }\n",
       "\n",
       "    .dataframe tbody tr th {\n",
       "        vertical-align: top;\n",
       "    }\n",
       "\n",
       "    .dataframe thead th {\n",
       "        text-align: right;\n",
       "    }\n",
       "</style>\n",
       "<table border=\"1\" class=\"dataframe\">\n",
       "  <thead>\n",
       "    <tr style=\"text-align: right;\">\n",
       "      <th></th>\n",
       "      <th>Candidate ID</th>\n",
       "      <th>Test_Task_Status</th>\n",
       "      <th>Test_Task_Technology</th>\n",
       "      <th>Test_Task_Score</th>\n",
       "      <th>Test_Task_Date</th>\n",
       "      <th>Candidate_Status</th>\n",
       "    </tr>\n",
       "  </thead>\n",
       "  <tbody>\n",
       "    <tr>\n",
       "      <th>0</th>\n",
       "      <td>248544000000059039</td>\n",
       "      <td>Sent;Done;Passed</td>\n",
       "      <td>Java</td>\n",
       "      <td>96.0</td>\n",
       "      <td>2021-06-02</td>\n",
       "      <td>Associated</td>\n",
       "    </tr>\n",
       "    <tr>\n",
       "      <th>1</th>\n",
       "      <td>248544000000059102</td>\n",
       "      <td>Sent;Done;Failed</td>\n",
       "      <td>Node</td>\n",
       "      <td>0.0</td>\n",
       "      <td>2022-02-02</td>\n",
       "      <td>Hired</td>\n",
       "    </tr>\n",
       "    <tr>\n",
       "      <th>2</th>\n",
       "      <td>248544000000145088</td>\n",
       "      <td>Sent;Done;Passed</td>\n",
       "      <td>Node + Angular</td>\n",
       "      <td>100.0</td>\n",
       "      <td>2021-09-12</td>\n",
       "      <td>Associated</td>\n",
       "    </tr>\n",
       "    <tr>\n",
       "      <th>3</th>\n",
       "      <td>248544000000146745</td>\n",
       "      <td>Sent;Done;Failed</td>\n",
       "      <td>React</td>\n",
       "      <td>6.0</td>\n",
       "      <td>2021-10-30</td>\n",
       "      <td>Associated</td>\n",
       "    </tr>\n",
       "    <tr>\n",
       "      <th>4</th>\n",
       "      <td>248544000000151165</td>\n",
       "      <td>Sent;Done;Passed</td>\n",
       "      <td>Scala</td>\n",
       "      <td>75.0</td>\n",
       "      <td>2021-08-23</td>\n",
       "      <td>Interviewed</td>\n",
       "    </tr>\n",
       "  </tbody>\n",
       "</table>\n",
       "</div>"
      ],
      "text/plain": [
       "         Candidate ID  Test_Task_Status Test_Task_Technology  Test_Task_Score  \\\n",
       "0  248544000000059039  Sent;Done;Passed                 Java             96.0   \n",
       "1  248544000000059102  Sent;Done;Failed                 Node              0.0   \n",
       "2  248544000000145088  Sent;Done;Passed       Node + Angular            100.0   \n",
       "3  248544000000146745  Sent;Done;Failed                React              6.0   \n",
       "4  248544000000151165  Sent;Done;Passed                Scala             75.0   \n",
       "\n",
       "  Test_Task_Date Candidate_Status  \n",
       "0     2021-06-02       Associated  \n",
       "1     2022-02-02            Hired  \n",
       "2     2021-09-12       Associated  \n",
       "3     2021-10-30       Associated  \n",
       "4     2021-08-23      Interviewed  "
      ]
     },
     "execution_count": 3,
     "metadata": {},
     "output_type": "execute_result"
    }
   ],
   "source": [
    "df.head()"
   ]
  },
  {
   "cell_type": "code",
   "execution_count": 4,
   "id": "fb63df69-06b3-4c75-a7bf-ebb48dd1e648",
   "metadata": {},
   "outputs": [
    {
     "data": {
      "text/html": [
       "<div>\n",
       "<style scoped>\n",
       "    .dataframe tbody tr th:only-of-type {\n",
       "        vertical-align: middle;\n",
       "    }\n",
       "\n",
       "    .dataframe tbody tr th {\n",
       "        vertical-align: top;\n",
       "    }\n",
       "\n",
       "    .dataframe thead th {\n",
       "        text-align: right;\n",
       "    }\n",
       "</style>\n",
       "<table border=\"1\" class=\"dataframe\">\n",
       "  <thead>\n",
       "    <tr style=\"text-align: right;\">\n",
       "      <th></th>\n",
       "      <th>count</th>\n",
       "      <th>mean</th>\n",
       "      <th>std</th>\n",
       "      <th>min</th>\n",
       "      <th>25%</th>\n",
       "      <th>50%</th>\n",
       "      <th>75%</th>\n",
       "      <th>max</th>\n",
       "    </tr>\n",
       "  </thead>\n",
       "  <tbody>\n",
       "    <tr>\n",
       "      <th>Test_Task_Score</th>\n",
       "      <td>5508.0</td>\n",
       "      <td>49.841685</td>\n",
       "      <td>35.929081</td>\n",
       "      <td>0.0</td>\n",
       "      <td>18.0</td>\n",
       "      <td>50.0</td>\n",
       "      <td>85.0</td>\n",
       "      <td>100.0</td>\n",
       "    </tr>\n",
       "  </tbody>\n",
       "</table>\n",
       "</div>"
      ],
      "text/plain": [
       "                  count       mean        std  min   25%   50%   75%    max\n",
       "Test_Task_Score  5508.0  49.841685  35.929081  0.0  18.0  50.0  85.0  100.0"
      ]
     },
     "execution_count": 4,
     "metadata": {},
     "output_type": "execute_result"
    }
   ],
   "source": [
    "df.describe().T"
   ]
  },
  {
   "cell_type": "code",
   "execution_count": 5,
   "id": "647b1f12-afcf-4218-acc7-013f760930f3",
   "metadata": {},
   "outputs": [
    {
     "name": "stdout",
     "output_type": "stream",
     "text": [
      "<class 'pandas.core.frame.DataFrame'>\n",
      "RangeIndex: 5509 entries, 0 to 5508\n",
      "Data columns (total 6 columns):\n",
      " #   Column                Non-Null Count  Dtype         \n",
      "---  ------                --------------  -----         \n",
      " 0   Candidate ID          5508 non-null   object        \n",
      " 1   Test_Task_Status      5508 non-null   object        \n",
      " 2   Test_Task_Technology  5508 non-null   object        \n",
      " 3   Test_Task_Score       5508 non-null   float64       \n",
      " 4   Test_Task_Date        5509 non-null   datetime64[ns]\n",
      " 5   Candidate_Status      5508 non-null   object        \n",
      "dtypes: datetime64[ns](1), float64(1), object(4)\n",
      "memory usage: 258.4+ KB\n"
     ]
    }
   ],
   "source": [
    "df.info()"
   ]
  },
  {
   "cell_type": "code",
   "execution_count": 6,
   "id": "8dff5068-177b-4cdb-8fe7-be02079053d5",
   "metadata": {},
   "outputs": [
    {
     "data": {
      "text/plain": [
       "(5509, 6)"
      ]
     },
     "execution_count": 6,
     "metadata": {},
     "output_type": "execute_result"
    }
   ],
   "source": [
    "df.shape"
   ]
  },
  {
   "cell_type": "code",
   "execution_count": 7,
   "id": "7b95c329-9429-443f-8bcb-78cd7a1ebbc1",
   "metadata": {},
   "outputs": [
    {
     "data": {
      "text/plain": [
       "Candidate ID            1\n",
       "Test_Task_Status        1\n",
       "Test_Task_Technology    1\n",
       "Test_Task_Score         1\n",
       "Test_Task_Date          0\n",
       "Candidate_Status        1\n",
       "dtype: int64"
      ]
     },
     "execution_count": 7,
     "metadata": {},
     "output_type": "execute_result"
    }
   ],
   "source": [
    "df.isnull().sum()"
   ]
  },
  {
   "cell_type": "code",
   "execution_count": 8,
   "id": "e36314ec-c3c9-4cde-96b8-20991838b02a",
   "metadata": {},
   "outputs": [],
   "source": [
    "#Drop the row with mainly NULL values\n",
    "df = df.dropna(how='any',axis=0) "
   ]
  },
  {
   "cell_type": "markdown",
   "id": "9394689c-0867-4d53-a4ad-63f18427f281",
   "metadata": {},
   "source": [
    "Our main goal is to get a general insight about our data, with the previous blocks of code we can clearly see that our data set is relatively small with 5509 observations and 6 variables with 3 different data types. We can also observe that there's a single extra data entry for the 'Test_Task_Date' column (or missing values for the rest of the columns, depends on how one wants to see it!), we quickly drop the record because it doesn't add much to our research, this also ramps us up for our data cleansing proccess"
   ]
  },
  {
   "cell_type": "code",
   "execution_count": 9,
   "id": "94d9a095-0ded-4be5-a7e6-dd21a6172e39",
   "metadata": {},
   "outputs": [
    {
     "data": {
      "text/plain": [
       "Candidate ID            5508\n",
       "Test_Task_Status           2\n",
       "Test_Task_Technology      38\n",
       "Test_Task_Score          100\n",
       "Test_Task_Date           435\n",
       "Candidate_Status          54\n",
       "dtype: int64"
      ]
     },
     "execution_count": 9,
     "metadata": {},
     "output_type": "execute_result"
    }
   ],
   "source": [
    "df.nunique()"
   ]
  },
  {
   "cell_type": "code",
   "execution_count": 10,
   "id": "dca1db40-6c23-4081-9ed6-987602ca95f4",
   "metadata": {},
   "outputs": [
    {
     "data": {
      "text/plain": [
       "array(['Sent;Done;Passed', 'Sent;Done;Failed'], dtype=object)"
      ]
     },
     "execution_count": 10,
     "metadata": {},
     "output_type": "execute_result"
    }
   ],
   "source": [
    "#Only 2 unique records for this column, might as well simplify it \n",
    "df.Test_Task_Status.unique()"
   ]
  },
  {
   "cell_type": "code",
   "execution_count": 11,
   "id": "4440079e-750b-41dd-84dd-077498ccecee",
   "metadata": {},
   "outputs": [],
   "source": [
    "df['Test_Task_Status'] = df['Test_Task_Status'].str.split(';').str[-1]"
   ]
  },
  {
   "cell_type": "code",
   "execution_count": 12,
   "id": "b3e9356e-fbc9-4d11-9798-fc8437327244",
   "metadata": {},
   "outputs": [
    {
     "data": {
      "text/plain": [
       "True"
      ]
     },
     "execution_count": 12,
     "metadata": {},
     "output_type": "execute_result"
    }
   ],
   "source": [
    "#Checking if our categorical variable consist of only int type values\n",
    "np.array_equal(df.Test_Task_Score, df.Test_Task_Score.astype(int))"
   ]
  },
  {
   "cell_type": "code",
   "execution_count": 13,
   "id": "e84f21c6-6fc9-4916-83fe-94d69193123a",
   "metadata": {},
   "outputs": [],
   "source": [
    "#Changing Test_Task_Score type to int\n",
    "df = df.astype({'Test_Task_Score':'int'})"
   ]
  },
  {
   "cell_type": "code",
   "execution_count": 14,
   "id": "0a61694c-341f-4268-8938-36d639422642",
   "metadata": {},
   "outputs": [
    {
     "name": "stdout",
     "output_type": "stream",
     "text": [
      "<class 'pandas.core.frame.DataFrame'>\n",
      "Int64Index: 5508 entries, 0 to 5507\n",
      "Data columns (total 6 columns):\n",
      " #   Column                Non-Null Count  Dtype         \n",
      "---  ------                --------------  -----         \n",
      " 0   Candidate ID          5508 non-null   object        \n",
      " 1   Test_Task_Status      5508 non-null   object        \n",
      " 2   Test_Task_Technology  5508 non-null   object        \n",
      " 3   Test_Task_Score       5508 non-null   int64         \n",
      " 4   Test_Task_Date        5508 non-null   datetime64[ns]\n",
      " 5   Candidate_Status      5508 non-null   object        \n",
      "dtypes: datetime64[ns](1), int64(1), object(4)\n",
      "memory usage: 301.2+ KB\n"
     ]
    }
   ],
   "source": [
    "df.info()"
   ]
  },
  {
   "cell_type": "code",
   "execution_count": 15,
   "id": "722e807c-05a0-45aa-a66d-f07c2cf441ba",
   "metadata": {},
   "outputs": [
    {
     "name": "stderr",
     "output_type": "stream",
     "text": [
      "/var/folders/q3/19rgddrx3zs2lvc4fk6mgdjc0000gn/T/ipykernel_31838/3296551503.py:2: FutureWarning: The default value of regex will change from True to False in a future version.\n",
      "  df['Candidate_Status'] = df['Candidate_Status'].str.replace('\\d+', ' ')\n"
     ]
    }
   ],
   "source": [
    "#Noticed there were some weird numerical values in Candidate_Status, we'll replace them with NA\n",
    "df['Candidate_Status'] = df['Candidate_Status'].str.replace('\\d+', ' ')\n",
    "df.loc[df['Candidate_Status'] == ' ', 'Candidate_Status'] = 'NA'"
   ]
  },
  {
   "cell_type": "code",
   "execution_count": 16,
   "id": "11637180-5cb3-4d88-8b1e-b1d7fa8df815",
   "metadata": {},
   "outputs": [
    {
     "data": {
      "text/plain": [
       "Candidate ID            5508\n",
       "Test_Task_Status           2\n",
       "Test_Task_Technology      38\n",
       "Test_Task_Score          100\n",
       "Test_Task_Date           435\n",
       "Candidate_Status          52\n",
       "dtype: int64"
      ]
     },
     "execution_count": 16,
     "metadata": {},
     "output_type": "execute_result"
    }
   ],
   "source": [
    "df.nunique()"
   ]
  },
  {
   "cell_type": "code",
   "execution_count": 17,
   "id": "7c2f0e5a-4405-4b6c-bcf9-04fda97574d3",
   "metadata": {},
   "outputs": [
    {
     "data": {
      "text/html": [
       "<div>\n",
       "<style scoped>\n",
       "    .dataframe tbody tr th:only-of-type {\n",
       "        vertical-align: middle;\n",
       "    }\n",
       "\n",
       "    .dataframe tbody tr th {\n",
       "        vertical-align: top;\n",
       "    }\n",
       "\n",
       "    .dataframe thead th {\n",
       "        text-align: right;\n",
       "    }\n",
       "</style>\n",
       "<table border=\"1\" class=\"dataframe\">\n",
       "  <thead>\n",
       "    <tr style=\"text-align: right;\">\n",
       "      <th></th>\n",
       "      <th>Candidate ID</th>\n",
       "      <th>Test_Task_Status</th>\n",
       "      <th>Test_Task_Technology</th>\n",
       "      <th>Test_Task_Score</th>\n",
       "      <th>Test_Task_Date</th>\n",
       "      <th>Candidate_Status</th>\n",
       "    </tr>\n",
       "  </thead>\n",
       "  <tbody>\n",
       "    <tr>\n",
       "      <th>0</th>\n",
       "      <td>248544000000059039</td>\n",
       "      <td>Passed</td>\n",
       "      <td>Java</td>\n",
       "      <td>96</td>\n",
       "      <td>2021-06-02</td>\n",
       "      <td>Associated</td>\n",
       "    </tr>\n",
       "    <tr>\n",
       "      <th>1</th>\n",
       "      <td>248544000000059102</td>\n",
       "      <td>Failed</td>\n",
       "      <td>Node</td>\n",
       "      <td>0</td>\n",
       "      <td>2022-02-02</td>\n",
       "      <td>Hired</td>\n",
       "    </tr>\n",
       "    <tr>\n",
       "      <th>2</th>\n",
       "      <td>248544000000145088</td>\n",
       "      <td>Passed</td>\n",
       "      <td>Node + Angular</td>\n",
       "      <td>100</td>\n",
       "      <td>2021-09-12</td>\n",
       "      <td>Associated</td>\n",
       "    </tr>\n",
       "    <tr>\n",
       "      <th>3</th>\n",
       "      <td>248544000000146745</td>\n",
       "      <td>Failed</td>\n",
       "      <td>React</td>\n",
       "      <td>6</td>\n",
       "      <td>2021-10-30</td>\n",
       "      <td>Associated</td>\n",
       "    </tr>\n",
       "    <tr>\n",
       "      <th>4</th>\n",
       "      <td>248544000000151165</td>\n",
       "      <td>Passed</td>\n",
       "      <td>Scala</td>\n",
       "      <td>75</td>\n",
       "      <td>2021-08-23</td>\n",
       "      <td>Interviewed</td>\n",
       "    </tr>\n",
       "  </tbody>\n",
       "</table>\n",
       "</div>"
      ],
      "text/plain": [
       "         Candidate ID Test_Task_Status Test_Task_Technology  Test_Task_Score  \\\n",
       "0  248544000000059039           Passed                 Java               96   \n",
       "1  248544000000059102           Failed                 Node                0   \n",
       "2  248544000000145088           Passed       Node + Angular              100   \n",
       "3  248544000000146745           Failed                React                6   \n",
       "4  248544000000151165           Passed                Scala               75   \n",
       "\n",
       "  Test_Task_Date Candidate_Status  \n",
       "0     2021-06-02       Associated  \n",
       "1     2022-02-02            Hired  \n",
       "2     2021-09-12       Associated  \n",
       "3     2021-10-30       Associated  \n",
       "4     2021-08-23      Interviewed  "
      ]
     },
     "execution_count": 17,
     "metadata": {},
     "output_type": "execute_result"
    }
   ],
   "source": [
    "#Looking at our cleaned data set\n",
    "df.head()"
   ]
  },
  {
   "cell_type": "markdown",
   "id": "98642a49-3ee2-48c7-8113-2a328c1de7a9",
   "metadata": {},
   "source": [
    "So from here we can see that our data is pretty tidy, we may be tempted to add features to this dataset, but for me it seems like the data is good to go for the exploratory analysis. With this in mind, we can move on to our analysis."
   ]
  },
  {
   "cell_type": "markdown",
   "id": "2349e973-ec72-41df-b5c6-a669803f4087",
   "metadata": {},
   "source": [
    "## Exploratory data analysis"
   ]
  },
  {
   "cell_type": "markdown",
   "id": "64897f62-6552-4ade-95c5-79a557c3451f",
   "metadata": {},
   "source": [
    "We'll start by looking at our variables one at each and trying to accurately describe them (univariate analysis)"
   ]
  },
  {
   "cell_type": "code",
   "execution_count": 18,
   "id": "9b2eab3e-75bd-4a5d-970d-e423cda32cdc",
   "metadata": {},
   "outputs": [
    {
     "data": {
      "text/html": [
       "<div>\n",
       "<style scoped>\n",
       "    .dataframe tbody tr th:only-of-type {\n",
       "        vertical-align: middle;\n",
       "    }\n",
       "\n",
       "    .dataframe tbody tr th {\n",
       "        vertical-align: top;\n",
       "    }\n",
       "\n",
       "    .dataframe thead th {\n",
       "        text-align: right;\n",
       "    }\n",
       "</style>\n",
       "<table border=\"1\" class=\"dataframe\">\n",
       "  <thead>\n",
       "    <tr style=\"text-align: right;\">\n",
       "      <th></th>\n",
       "      <th>Candidate ID</th>\n",
       "      <th>Test_Task_Status</th>\n",
       "      <th>Test_Task_Technology</th>\n",
       "      <th>Test_Task_Score</th>\n",
       "      <th>Test_Task_Date</th>\n",
       "      <th>Candidate_Status</th>\n",
       "    </tr>\n",
       "  </thead>\n",
       "  <tbody>\n",
       "    <tr>\n",
       "      <th>count</th>\n",
       "      <td>5508</td>\n",
       "      <td>5508</td>\n",
       "      <td>5508</td>\n",
       "      <td>5508.000000</td>\n",
       "      <td>5508</td>\n",
       "      <td>5508</td>\n",
       "    </tr>\n",
       "    <tr>\n",
       "      <th>unique</th>\n",
       "      <td>5508</td>\n",
       "      <td>2</td>\n",
       "      <td>38</td>\n",
       "      <td>NaN</td>\n",
       "      <td>NaN</td>\n",
       "      <td>52</td>\n",
       "    </tr>\n",
       "    <tr>\n",
       "      <th>top</th>\n",
       "      <td>248544000000059039</td>\n",
       "      <td>Passed</td>\n",
       "      <td>Java</td>\n",
       "      <td>NaN</td>\n",
       "      <td>NaN</td>\n",
       "      <td>No Job openings</td>\n",
       "    </tr>\n",
       "    <tr>\n",
       "      <th>freq</th>\n",
       "      <td>1</td>\n",
       "      <td>3897</td>\n",
       "      <td>1153</td>\n",
       "      <td>NaN</td>\n",
       "      <td>NaN</td>\n",
       "      <td>1681</td>\n",
       "    </tr>\n",
       "    <tr>\n",
       "      <th>mean</th>\n",
       "      <td>NaN</td>\n",
       "      <td>NaN</td>\n",
       "      <td>NaN</td>\n",
       "      <td>49.841685</td>\n",
       "      <td>2021-11-29 21:17:07.450980352</td>\n",
       "      <td>NaN</td>\n",
       "    </tr>\n",
       "    <tr>\n",
       "      <th>min</th>\n",
       "      <td>NaN</td>\n",
       "      <td>NaN</td>\n",
       "      <td>NaN</td>\n",
       "      <td>0.000000</td>\n",
       "      <td>2021-02-17 00:00:00</td>\n",
       "      <td>NaN</td>\n",
       "    </tr>\n",
       "    <tr>\n",
       "      <th>25%</th>\n",
       "      <td>NaN</td>\n",
       "      <td>NaN</td>\n",
       "      <td>NaN</td>\n",
       "      <td>18.000000</td>\n",
       "      <td>2021-08-21 00:00:00</td>\n",
       "      <td>NaN</td>\n",
       "    </tr>\n",
       "    <tr>\n",
       "      <th>50%</th>\n",
       "      <td>NaN</td>\n",
       "      <td>NaN</td>\n",
       "      <td>NaN</td>\n",
       "      <td>50.000000</td>\n",
       "      <td>2021-12-27 00:00:00</td>\n",
       "      <td>NaN</td>\n",
       "    </tr>\n",
       "    <tr>\n",
       "      <th>75%</th>\n",
       "      <td>NaN</td>\n",
       "      <td>NaN</td>\n",
       "      <td>NaN</td>\n",
       "      <td>85.000000</td>\n",
       "      <td>2022-03-16 00:00:00</td>\n",
       "      <td>NaN</td>\n",
       "    </tr>\n",
       "    <tr>\n",
       "      <th>max</th>\n",
       "      <td>NaN</td>\n",
       "      <td>NaN</td>\n",
       "      <td>NaN</td>\n",
       "      <td>100.000000</td>\n",
       "      <td>2022-05-10 00:00:00</td>\n",
       "      <td>NaN</td>\n",
       "    </tr>\n",
       "    <tr>\n",
       "      <th>std</th>\n",
       "      <td>NaN</td>\n",
       "      <td>NaN</td>\n",
       "      <td>NaN</td>\n",
       "      <td>35.929081</td>\n",
       "      <td>NaN</td>\n",
       "      <td>NaN</td>\n",
       "    </tr>\n",
       "  </tbody>\n",
       "</table>\n",
       "</div>"
      ],
      "text/plain": [
       "              Candidate ID Test_Task_Status Test_Task_Technology  \\\n",
       "count                 5508             5508                 5508   \n",
       "unique                5508                2                   38   \n",
       "top     248544000000059039           Passed                 Java   \n",
       "freq                     1             3897                 1153   \n",
       "mean                   NaN              NaN                  NaN   \n",
       "min                    NaN              NaN                  NaN   \n",
       "25%                    NaN              NaN                  NaN   \n",
       "50%                    NaN              NaN                  NaN   \n",
       "75%                    NaN              NaN                  NaN   \n",
       "max                    NaN              NaN                  NaN   \n",
       "std                    NaN              NaN                  NaN   \n",
       "\n",
       "        Test_Task_Score                 Test_Task_Date Candidate_Status  \n",
       "count       5508.000000                           5508             5508  \n",
       "unique              NaN                            NaN               52  \n",
       "top                 NaN                            NaN  No Job openings  \n",
       "freq                NaN                            NaN             1681  \n",
       "mean          49.841685  2021-11-29 21:17:07.450980352              NaN  \n",
       "min            0.000000            2021-02-17 00:00:00              NaN  \n",
       "25%           18.000000            2021-08-21 00:00:00              NaN  \n",
       "50%           50.000000            2021-12-27 00:00:00              NaN  \n",
       "75%           85.000000            2022-03-16 00:00:00              NaN  \n",
       "max          100.000000            2022-05-10 00:00:00              NaN  \n",
       "std           35.929081                            NaN              NaN  "
      ]
     },
     "execution_count": 18,
     "metadata": {},
     "output_type": "execute_result"
    }
   ],
   "source": [
    "#Take a look at several statistics for all variables\n",
    "df.describe(include='all', datetime_is_numeric=True)"
   ]
  },
  {
   "cell_type": "code",
   "execution_count": 19,
   "id": "b7a76e59-defc-41c5-a9ee-967c064a2e73",
   "metadata": {},
   "outputs": [
    {
     "data": {
      "image/png": "[encoded data removed]",
      "text/plain": [
       "<Figure size 432x288 with 1 Axes>"
      ]
     },
     "metadata": {},
     "output_type": "display_data"
    }
   ],
   "source": [
    "df['Test_Task_Status'].value_counts().plot(kind='pie', autopct='%1.f%%', explode=[0,0.1], shadow=True)\n",
    "plt.ylabel(\"\")\n",
    "plt.title(\"Pass vs fail\")\n",
    "plt.show()"
   ]
  },
  {
   "cell_type": "markdown",
   "id": "96dfe3d2-c5cd-4f1b-a4e5-0a85e467c9fc",
   "metadata": {},
   "source": [
    "From this first pie chart we can quickly come to the realization that the passing rate for the test in general is pretty high, having only 29% of candidates not passing the test task. We want to dive deeper into this fact."
   ]
  },
  {
   "cell_type": "code",
   "execution_count": 20,
   "id": "4d89e339-cb81-45a5-9e7e-e2577dd53d50",
   "metadata": {},
   "outputs": [
    {
     "data": {
      "text/html": [
       "<div>\n",
       "<style scoped>\n",
       "    .dataframe tbody tr th:only-of-type {\n",
       "        vertical-align: middle;\n",
       "    }\n",
       "\n",
       "    .dataframe tbody tr th {\n",
       "        vertical-align: top;\n",
       "    }\n",
       "\n",
       "    .dataframe thead tr th {\n",
       "        text-align: left;\n",
       "    }\n",
       "\n",
       "    .dataframe thead tr:last-of-type th {\n",
       "        text-align: right;\n",
       "    }\n",
       "</style>\n",
       "<table border=\"1\" class=\"dataframe\">\n",
       "  <thead>\n",
       "    <tr>\n",
       "      <th></th>\n",
       "      <th colspan=\"8\" halign=\"left\">Test_Task_Score</th>\n",
       "    </tr>\n",
       "    <tr>\n",
       "      <th></th>\n",
       "      <th>count</th>\n",
       "      <th>mean</th>\n",
       "      <th>std</th>\n",
       "      <th>min</th>\n",
       "      <th>25%</th>\n",
       "      <th>50%</th>\n",
       "      <th>75%</th>\n",
       "      <th>max</th>\n",
       "    </tr>\n",
       "    <tr>\n",
       "      <th>Test_Task_Status</th>\n",
       "      <th></th>\n",
       "      <th></th>\n",
       "      <th></th>\n",
       "      <th></th>\n",
       "      <th></th>\n",
       "      <th></th>\n",
       "      <th></th>\n",
       "      <th></th>\n",
       "    </tr>\n",
       "  </thead>\n",
       "  <tbody>\n",
       "    <tr>\n",
       "      <th>Failed</th>\n",
       "      <td>1611.0</td>\n",
       "      <td>5.398510</td>\n",
       "      <td>7.848177</td>\n",
       "      <td>0.0</td>\n",
       "      <td>0.0</td>\n",
       "      <td>0.0</td>\n",
       "      <td>11.0</td>\n",
       "      <td>24.0</td>\n",
       "    </tr>\n",
       "    <tr>\n",
       "      <th>Passed</th>\n",
       "      <td>3897.0</td>\n",
       "      <td>68.214267</td>\n",
       "      <td>25.393889</td>\n",
       "      <td>25.0</td>\n",
       "      <td>45.0</td>\n",
       "      <td>66.0</td>\n",
       "      <td>100.0</td>\n",
       "      <td>100.0</td>\n",
       "    </tr>\n",
       "  </tbody>\n",
       "</table>\n",
       "</div>"
      ],
      "text/plain": [
       "                 Test_Task_Score                                          \\\n",
       "                           count       mean        std   min   25%   50%   \n",
       "Test_Task_Status                                                           \n",
       "Failed                    1611.0   5.398510   7.848177   0.0   0.0   0.0   \n",
       "Passed                    3897.0  68.214267  25.393889  25.0  45.0  66.0   \n",
       "\n",
       "                                \n",
       "                    75%    max  \n",
       "Test_Task_Status                \n",
       "Failed             11.0   24.0  \n",
       "Passed            100.0  100.0  "
      ]
     },
     "execution_count": 20,
     "metadata": {},
     "output_type": "execute_result"
    }
   ],
   "source": [
    "df.groupby(['Test_Task_Status']).describe()"
   ]
  },
  {
   "cell_type": "code",
   "execution_count": 21,
   "id": "1ee8f74c-174e-4c0d-8557-bfade28f28db",
   "metadata": {},
   "outputs": [
    {
     "data": {
      "image/png": "[encoded data removed]",
      "text/plain": [
       "<Figure size 432x288 with 1 Axes>"
      ]
     },
     "metadata": {
      "needs_background": "light"
     },
     "output_type": "display_data"
    }
   ],
   "source": [
    "plt1 = sns.boxplot(x=df['Test_Task_Status'], y=df['Test_Task_Score'])\n",
    "plt1.set(xlabel='Test status', ylabel='Test score')\n",
    "plt1.plot([-.4, 1.4], [24.5, 24.5], color='grey', linestyle='dashed',)\n",
    "plt1.text(.2, 28, 'Pass/fail standard = 25')\n",
    "plt.title(\"Test scores\")\n",
    "plt.show()"
   ]
  },
  {
   "cell_type": "markdown",
   "id": "f5c0445b-f4a6-432a-b9ed-979a805b7ed6",
   "metadata": {},
   "source": [
    "We then analyze the test score, we can see that the minimum required score for an approbatory status is 25, which seems oddly low. From this, we can also see that people who fail do it badly, having 75% of the scores falling below 11 points. On the other hand, we can see that our values are spread out over a wider range for the passing scores. This should trigger some alarms about our passing methodology, we have a very low standard for passing scores and it seems like were pass everyone who puts just the bare minimum effort on the test, which can skew our results and lead to recruiting unprepared candidates"
   ]
  },
  {
   "cell_type": "code",
   "execution_count": 22,
   "id": "9edbd234-e4e9-4ba7-be9b-abea8454314f",
   "metadata": {},
   "outputs": [
    {
     "data": {
      "image/png": "[encoded data removed]",
      "text/plain": [
       "<Figure size 432x288 with 1 Axes>"
      ]
     },
     "metadata": {
      "needs_background": "light"
     },
     "output_type": "display_data"
    }
   ],
   "source": [
    "plt2 = sns.histplot(x=df[\"Test_Task_Score\"])\n",
    "plt2.set(xlabel='Test score')\n",
    "plt.show()"
   ]
  },
  {
   "cell_type": "markdown",
   "id": "aeb8e78c-97ed-418d-a849-13e603d97d20",
   "metadata": {},
   "source": [
    "Here we can see a complement for what was discussed earlier, many candidates seem to take the test and not perform even remotely well, having, most of the time, scores lower than 11."
   ]
  },
  {
   "cell_type": "code",
   "execution_count": 23,
   "id": "280203a8-b29b-4d82-a041-e384a597552f",
   "metadata": {},
   "outputs": [
    {
     "data": {
      "text/html": [
       "<div>\n",
       "<style scoped>\n",
       "    .dataframe tbody tr th:only-of-type {\n",
       "        vertical-align: middle;\n",
       "    }\n",
       "\n",
       "    .dataframe tbody tr th {\n",
       "        vertical-align: top;\n",
       "    }\n",
       "\n",
       "    .dataframe thead th {\n",
       "        text-align: right;\n",
       "    }\n",
       "</style>\n",
       "<table border=\"1\" class=\"dataframe\">\n",
       "  <thead>\n",
       "    <tr style=\"text-align: right;\">\n",
       "      <th></th>\n",
       "      <th>Test_Task_Technology</th>\n",
       "      <th>avg_score</th>\n",
       "      <th>med_score</th>\n",
       "      <th>top_score</th>\n",
       "      <th>low_score</th>\n",
       "      <th>tests_taken</th>\n",
       "    </tr>\n",
       "  </thead>\n",
       "  <tbody>\n",
       "    <tr>\n",
       "      <th>16</th>\n",
       "      <td>Java</td>\n",
       "      <td>48.5</td>\n",
       "      <td>46.0</td>\n",
       "      <td>100</td>\n",
       "      <td>0</td>\n",
       "      <td>1153</td>\n",
       "    </tr>\n",
       "    <tr>\n",
       "      <th>31</th>\n",
       "      <td>React</td>\n",
       "      <td>56.5</td>\n",
       "      <td>60.0</td>\n",
       "      <td>100</td>\n",
       "      <td>0</td>\n",
       "      <td>740</td>\n",
       "    </tr>\n",
       "    <tr>\n",
       "      <th>26</th>\n",
       "      <td>Python</td>\n",
       "      <td>54.6</td>\n",
       "      <td>63.0</td>\n",
       "      <td>100</td>\n",
       "      <td>0</td>\n",
       "      <td>527</td>\n",
       "    </tr>\n",
       "    <tr>\n",
       "      <th>0</th>\n",
       "      <td>.NET</td>\n",
       "      <td>41.7</td>\n",
       "      <td>40.0</td>\n",
       "      <td>100</td>\n",
       "      <td>0</td>\n",
       "      <td>516</td>\n",
       "    </tr>\n",
       "    <tr>\n",
       "      <th>20</th>\n",
       "      <td>Node</td>\n",
       "      <td>54.3</td>\n",
       "      <td>60.0</td>\n",
       "      <td>100</td>\n",
       "      <td>0</td>\n",
       "      <td>323</td>\n",
       "    </tr>\n",
       "    <tr>\n",
       "      <th>6</th>\n",
       "      <td>Angular</td>\n",
       "      <td>44.9</td>\n",
       "      <td>45.5</td>\n",
       "      <td>100</td>\n",
       "      <td>0</td>\n",
       "      <td>288</td>\n",
       "    </tr>\n",
       "    <tr>\n",
       "      <th>22</th>\n",
       "      <td>Node + React</td>\n",
       "      <td>53.7</td>\n",
       "      <td>50.0</td>\n",
       "      <td>100</td>\n",
       "      <td>0</td>\n",
       "      <td>253</td>\n",
       "    </tr>\n",
       "    <tr>\n",
       "      <th>25</th>\n",
       "      <td>PHP</td>\n",
       "      <td>41.7</td>\n",
       "      <td>45.0</td>\n",
       "      <td>100</td>\n",
       "      <td>0</td>\n",
       "      <td>224</td>\n",
       "    </tr>\n",
       "    <tr>\n",
       "      <th>8</th>\n",
       "      <td>Data Engineer</td>\n",
       "      <td>42.1</td>\n",
       "      <td>32.0</td>\n",
       "      <td>100</td>\n",
       "      <td>0</td>\n",
       "      <td>195</td>\n",
       "    </tr>\n",
       "    <tr>\n",
       "      <th>15</th>\n",
       "      <td>Internship Test Task</td>\n",
       "      <td>70.0</td>\n",
       "      <td>85.0</td>\n",
       "      <td>100</td>\n",
       "      <td>0</td>\n",
       "      <td>190</td>\n",
       "    </tr>\n",
       "  </tbody>\n",
       "</table>\n",
       "</div>"
      ],
      "text/plain": [
       "    Test_Task_Technology  avg_score  med_score  top_score  low_score  \\\n",
       "16                  Java       48.5       46.0        100          0   \n",
       "31                 React       56.5       60.0        100          0   \n",
       "26                Python       54.6       63.0        100          0   \n",
       "0                   .NET       41.7       40.0        100          0   \n",
       "20                  Node       54.3       60.0        100          0   \n",
       "6                Angular       44.9       45.5        100          0   \n",
       "22          Node + React       53.7       50.0        100          0   \n",
       "25                   PHP       41.7       45.0        100          0   \n",
       "8          Data Engineer       42.1       32.0        100          0   \n",
       "15  Internship Test Task       70.0       85.0        100          0   \n",
       "\n",
       "    tests_taken  \n",
       "16         1153  \n",
       "31          740  \n",
       "26          527  \n",
       "0           516  \n",
       "20          323  \n",
       "6           288  \n",
       "22          253  \n",
       "25          224  \n",
       "8           195  \n",
       "15          190  "
      ]
     },
     "execution_count": 23,
     "metadata": {},
     "output_type": "execute_result"
    }
   ],
   "source": [
    "# Grouping our df by technology and looking at the top 10 most taken tests\n",
    "df_x = df.groupby(['Test_Task_Technology']).agg(avg_score = ('Test_Task_Score','mean'),\n",
    "                                              med_score = ('Test_Task_Score','median'),\n",
    "                                              top_score = ('Test_Task_Score','max'),\n",
    "                                              low_score = ('Test_Task_Score','min'),\n",
    "                                              tests_taken = ('Test_Task_Score','count')).round(1).reset_index()\n",
    "df_x.sort_values(by=['tests_taken'],ascending=False).head(10)"
   ]
  },
  {
   "cell_type": "markdown",
   "id": "a4c5c7b2-91ee-486f-be50-34a1c467af24",
   "metadata": {},
   "source": [
    "With the previous df, we see that a pretty significant difference occurs with the number of tests taken for each unique technology, we want to visualize how the top tech test passing ratios compare."
   ]
  },
  {
   "cell_type": "code",
   "execution_count": 24,
   "id": "dd6bdb36-d897-4b3c-bb4b-bd70fc7c88fc",
   "metadata": {},
   "outputs": [],
   "source": [
    "#Select the previous top 10 technologies\n",
    "df_x1 = df_x.sort_values(by=['tests_taken'],ascending=False).head(10)\n",
    "top_tech_ls = df_x1['Test_Task_Technology'].tolist()\n",
    "#Store in an ordered df\n",
    "df['Test_Task_Technology_CAT'] = pd.Categorical(df['Test_Task_Technology'], \n",
    "                                                categories=top_tech_ls, ordered=True)\n",
    "df_cat = df[df['Test_Task_Technology'].isin(top_tech_ls)].sort_values('Test_Task_Technology_CAT')\n",
    "proportions = df_cat.groupby('Test_Task_Technology')['Test_Task_Status'].value_counts(normalize=True)"
   ]
  },
  {
   "cell_type": "code",
   "execution_count": 25,
   "id": "450c1295-fab2-47ee-99be-8318c59ee6ee",
   "metadata": {},
   "outputs": [
    {
     "data": {
      "image/png": "[encoded data removed]",
      "text/plain": [
       "<Figure size 1600x480 with 1 Axes>"
      ]
     },
     "metadata": {
      "needs_background": "light"
     },
     "output_type": "display_data"
    }
   ],
   "source": [
    "#Plotting the top 10 most frequent tech test and their pass/fail counts\n",
    "from matplotlib.pyplot import figure\n",
    "figure(figsize=(20, 6), dpi=80)\n",
    "ax = sns.countplot(x=\"Test_Task_Technology\", hue=\"Test_Task_Status\",data=df_cat)\n",
    "plt.xticks(rotation=45)\n",
    "ax.set(xlabel='Test task technology (TOP 10)')\n",
    "ax.set(ylabel='Count')\n",
    "lbls0, lbls1 = [], []\n",
    "for i in proportions[::2]:\n",
    "    lbls0.append(f'{i*100:.0f}%')\n",
    "for i in proportions[1::2]:\n",
    "    lbls1.append(f'{i*100:.0f}%')\n",
    "ax.bar_label(container=ax.containers[0], labels=lbls0)\n",
    "ax.bar_label(container=ax.containers[1], labels=lbls1)\n",
    "ax.legend(title='Status')\n",
    "plt.show()"
   ]
  },
  {
   "cell_type": "markdown",
   "id": "2782ace1-cd12-42ee-b09b-8537e3d5a3e1",
   "metadata": {},
   "source": [
    "This gives us a pretty good undestanding of our most frequent tests. Compared to the global 71/29 passing/fail ratio, here we can see that this varies depending on the tech that's being tested. The top 3 technologies seem to behave in a similar manner, having somewhere around a 60/40 passing rate, the rest seem to behave a similar to what we saw before."
   ]
  },
  {
   "cell_type": "code",
   "execution_count": 26,
   "id": "f3ec09e3-e0d4-4019-92fa-6249285c3357",
   "metadata": {},
   "outputs": [
    {
     "data": {
      "image/png": "[encoded data removed]",
      "text/plain": [
       "<Figure size 432x288 with 2 Axes>"
      ]
     },
     "metadata": {},
     "output_type": "display_data"
    }
   ],
   "source": [
    "fig, (ax1,ax2) = plt.subplots(1,2) \n",
    "df_cat1 = df[df['Test_Task_Technology'].isin(top_tech_ls[:3])].sort_values('Test_Task_Technology_CAT')\n",
    "df_cat2 = df[df['Test_Task_Technology'].isin(top_tech_ls[3:])].sort_values('Test_Task_Technology_CAT')\n",
    "labels = df_cat1['Test_Task_Status'].unique()\n",
    "values = df_cat1['Test_Task_Status'].value_counts()\n",
    "ax1.pie(values,labels = labels, autopct='%1.f%%', explode=[0,0.1], shadow=True)\n",
    "labels = df_cat2['Test_Task_Status'].unique()\n",
    "values = df_cat2['Test_Task_Status'].value_counts()\n",
    "ax2.pie(values,labels = labels, autopct='%1.f%%', explode=[0,0.1], shadow=True)\n",
    "fig.suptitle(\"Top 3 tech test ratio / Rest of top 10 tech test\")\n",
    "plt.show()"
   ]
  },
  {
   "cell_type": "markdown",
   "id": "bd816187-1950-4237-8f36-17f1806d8bb0",
   "metadata": {},
   "source": [
    "Here we see that our passing ratios have a slight varition comparing the top 3 to the rest of the top 10 mos frequent tests."
   ]
  },
  {
   "cell_type": "code",
   "execution_count": 27,
   "id": "006d81bf-d9fa-4fcf-a64b-995fc9170c7c",
   "metadata": {},
   "outputs": [
    {
     "data": {
      "image/png": "[encoded data removed]",
      "text/plain": [
       "<Figure size 1600x480 with 1 Axes>"
      ]
     },
     "metadata": {
      "needs_background": "light"
     },
     "output_type": "display_data"
    }
   ],
   "source": [
    "#What about the least frequent?\n",
    "df_x2 = df_x.sort_values(by=['tests_taken'],ascending=False).tail(10)\n",
    "low_tech_ls = df_x2['Test_Task_Technology'].tolist()\n",
    "#Store in an ordered df (low)\n",
    "df['Test_Task_Technology_CAT'] = pd.Categorical(df['Test_Task_Technology'], categories=low_tech_ls, ordered=True)\n",
    "df_cat = df[df['Test_Task_Technology'].isin(low_tech_ls)].sort_values('Test_Task_Technology_CAT')\n",
    "proportions = df_cat.groupby('Test_Task_Technology')['Test_Task_Status'].value_counts(normalize=True)\n",
    "#Plotting the top 10 least frequent tech test and their pass/fail counts\n",
    "from matplotlib.pyplot import figure\n",
    "figure(figsize=(20, 6), dpi=80)\n",
    "ax = sns.countplot(x=\"Test_Task_Technology\", hue=\"Test_Task_Status\",data=df_cat)\n",
    "plt.xticks(rotation=45)\n",
    "ax.set(xlabel='Test task technology (TAIL 10)')\n",
    "ax.set(ylabel='Count')\n",
    "ax.legend(title='Status')\n",
    "plt.show()"
   ]
  },
  {
   "cell_type": "markdown",
   "id": "40565351-585e-4071-8f1c-427e401dd71a",
   "metadata": {},
   "source": [
    "Not much can be said for the other side of the coin. We can see that there are tests that are not being used that frequently but we can't draw precise conclusions about the passing rates due to the lack of data for these particular tech tasks"
   ]
  },
  {
   "cell_type": "code",
   "execution_count": 28,
   "id": "d746353c-b485-4d03-ba49-833584954093",
   "metadata": {},
   "outputs": [
    {
     "data": {
      "image/png": "[encoded data removed]",
      "text/plain": [
       "<Figure size 864x576 with 1 Axes>"
      ]
     },
     "metadata": {
      "needs_background": "light"
     },
     "output_type": "display_data"
    }
   ],
   "source": [
    "fig = plt.figure(figsize=(12, 8))\n",
    "#Retrieve time series and smooth out data\n",
    "df_tp = df.where(df.Test_Task_Status == 'Passed').groupby(['Test_Task_Date']).agg(tests_taken = ('Test_Task_Score','count')).round(1).reset_index()\n",
    "df_tf = df.where(df.Test_Task_Status == 'Failed').groupby(['Test_Task_Date']).agg(tests_taken = ('Test_Task_Score','count')).round(1).reset_index()\n",
    "df_tp['mov_avg'] = df_tp['tests_taken'].rolling(7).sum()\n",
    "df_tf['mov_avg'] = df_tf['tests_taken'].rolling(7).sum()\n",
    "#Plot\n",
    "plt.plot(df_tp.Test_Task_Date, df_tp.mov_avg, color='blue', label='Test passed',linewidth=1)\n",
    "plt.plot(df_tf.Test_Task_Date, df_tf.mov_avg, color='red', label='Test failed', linewidth=1)\n",
    "plt.title('Tests taken by date (rolling)')\n",
    "plt.xlabel('Date')\n",
    "plt.ylabel('Tests')\n",
    "plt.legend()\n",
    "plt.tight_layout()\n",
    "plt.show() "
   ]
  },
  {
   "cell_type": "markdown",
   "id": "3e236643-a36d-4033-9093-ec2977e96e41",
   "metadata": {},
   "source": [
    "We use the moving average of both passed and failed tests taken just to have a perspective of how our candidates were doing during this period. From the above graph, we can get an overall idea of the trend of passing and failing tests, it’s easy to see that we’ve been having more people passing the tests as time passes"
   ]
  },
  {
   "cell_type": "code",
   "execution_count": 29,
   "id": "aa2cb635-3917-46a0-8d92-f4e19484c00a",
   "metadata": {},
   "outputs": [],
   "source": [
    "# Grouping our df by candidate status and looking at the top 10 status (also some useful metrics)\n",
    "df_y = df.groupby(['Candidate_Status']).agg(avg_score = ('Test_Task_Score','mean'),\n",
    "                                              med_score = ('Test_Task_Score','median'),\n",
    "                                              top_score = ('Test_Task_Score','max'),\n",
    "                                              low_score = ('Test_Task_Score','min'),\n",
    "                                              tests_taken = ('Test_Task_Score','count')).round(1).reset_index()"
   ]
  },
  {
   "cell_type": "code",
   "execution_count": 30,
   "id": "7ca920a2-236b-4496-9bc3-60a7eb866a25",
   "metadata": {},
   "outputs": [],
   "source": [
    "#Select the previous top 10 technologies\n",
    "df_y1 = df_y.sort_values(by=['tests_taken'],ascending=False).head(10)\n",
    "top_cansta_ls = df_y1['Candidate_Status'].tolist()\n",
    "top_cansta_ls\n",
    "#Store in an ordered df\n",
    "df['Candidate_Status_CAT'] = pd.Categorical(df['Candidate_Status'], \n",
    "                                                categories=top_cansta_ls, ordered=True)\n",
    "df_cat1 = df[df['Candidate_Status'].isin(top_cansta_ls)].sort_values('Candidate_Status_CAT')\n",
    "proportions1 = df_cat1.groupby('Candidate_Status')['Test_Task_Status'].value_counts(normalize=True)"
   ]
  },
  {
   "cell_type": "code",
   "execution_count": 31,
   "id": "da19eed2-ed93-4f68-b89b-d59a5879a2c3",
   "metadata": {},
   "outputs": [
    {
     "data": {
      "image/png": "[encoded data removed]",
      "text/plain": [
       "<Figure size 1600x480 with 1 Axes>"
      ]
     },
     "metadata": {
      "needs_background": "light"
     },
     "output_type": "display_data"
    }
   ],
   "source": [
    " #Plotting the top 10 most frequent tech test and their pass/fail counts\n",
    "from matplotlib.pyplot import figure\n",
    "figure(figsize=(20, 6), dpi=80)\n",
    "ax = sns.countplot(x=\"Candidate_Status\", hue=\"Test_Task_Status\",data=df_cat1)\n",
    "plt.xticks(rotation=45)\n",
    "ax.set(xlabel='Test task technology (TOP 10)')\n",
    "ax.set(ylabel='Count')\n",
    "lbls0, lbls1 = [], []\n",
    "for i in proportions1[::2]:\n",
    "    lbls0.append(f'{i*100:.0f}%')\n",
    "for i in proportions1[1::2]:\n",
    "    lbls1.append(f'{i*100:.0f}%')\n",
    "ax.bar_label(container=ax.containers[0], labels=lbls0)\n",
    "ax.bar_label(container=ax.containers[1], labels=lbls1)\n",
    "ax.legend(title='Status')\n",
    "for p in ax.patches:\n",
    "    if (8.5 <= p.get_x() < 9.5):\n",
    "        p.set_facecolor('red')\n",
    "plt.show()"
   ]
  },
  {
   "cell_type": "markdown",
   "id": "a73fcb1b-895f-4d3d-aa5a-d5bde102375a",
   "metadata": {},
   "source": [
    "This is an interesting finding, we can see that passing a test does not necessarily get you hired, but the most worrying part of this is that it is pretty frequent for people to pass the test and not find an opening"
   ]
  },
  {
   "cell_type": "code",
   "execution_count": 32,
   "id": "55959504-b259-4ba8-97d9-18f06039c92e",
   "metadata": {},
   "outputs": [
    {
     "data": {
      "text/html": [
       "<div>\n",
       "<style scoped>\n",
       "    .dataframe tbody tr th:only-of-type {\n",
       "        vertical-align: middle;\n",
       "    }\n",
       "\n",
       "    .dataframe tbody tr th {\n",
       "        vertical-align: top;\n",
       "    }\n",
       "\n",
       "    .dataframe thead th {\n",
       "        text-align: right;\n",
       "    }\n",
       "</style>\n",
       "<table border=\"1\" class=\"dataframe\">\n",
       "  <thead>\n",
       "    <tr style=\"text-align: right;\">\n",
       "      <th></th>\n",
       "      <th>tests_taken</th>\n",
       "    </tr>\n",
       "    <tr>\n",
       "      <th>Test_Task_Status</th>\n",
       "      <th></th>\n",
       "    </tr>\n",
       "  </thead>\n",
       "  <tbody>\n",
       "    <tr>\n",
       "      <th>Failed</th>\n",
       "      <td>1611</td>\n",
       "    </tr>\n",
       "    <tr>\n",
       "      <th>Passed</th>\n",
       "      <td>3897</td>\n",
       "    </tr>\n",
       "  </tbody>\n",
       "</table>\n",
       "</div>"
      ],
      "text/plain": [
       "                  tests_taken\n",
       "Test_Task_Status             \n",
       "Failed                   1611\n",
       "Passed                   3897"
      ]
     },
     "execution_count": 32,
     "metadata": {},
     "output_type": "execute_result"
    }
   ],
   "source": [
    "df.groupby(['Test_Task_Status']).agg(tests_taken = ('Test_Task_Score','count'))"
   ]
  },
  {
   "cell_type": "code",
   "execution_count": 33,
   "id": "fb2c5521-490d-4bf9-9f1f-117db183f9d4",
   "metadata": {},
   "outputs": [
    {
     "data": {
      "text/html": [
       "<div>\n",
       "<style scoped>\n",
       "    .dataframe tbody tr th:only-of-type {\n",
       "        vertical-align: middle;\n",
       "    }\n",
       "\n",
       "    .dataframe tbody tr th {\n",
       "        vertical-align: top;\n",
       "    }\n",
       "\n",
       "    .dataframe thead th {\n",
       "        text-align: right;\n",
       "    }\n",
       "</style>\n",
       "<table border=\"1\" class=\"dataframe\">\n",
       "  <thead>\n",
       "    <tr style=\"text-align: right;\">\n",
       "      <th></th>\n",
       "      <th>tests_taken</th>\n",
       "    </tr>\n",
       "    <tr>\n",
       "      <th>Test_Task_Status</th>\n",
       "      <th></th>\n",
       "    </tr>\n",
       "  </thead>\n",
       "  <tbody>\n",
       "    <tr>\n",
       "      <th>Failed</th>\n",
       "      <td>6</td>\n",
       "    </tr>\n",
       "    <tr>\n",
       "      <th>Passed</th>\n",
       "      <td>126</td>\n",
       "    </tr>\n",
       "  </tbody>\n",
       "</table>\n",
       "</div>"
      ],
      "text/plain": [
       "                  tests_taken\n",
       "Test_Task_Status             \n",
       "Failed                      6\n",
       "Passed                    126"
      ]
     },
     "execution_count": 33,
     "metadata": {},
     "output_type": "execute_result"
    }
   ],
   "source": [
    "df.where(df.Candidate_Status == 'Hired').groupby(['Test_Task_Status']).agg(tests_taken = ('Test_Task_Score','count'))"
   ]
  },
  {
   "cell_type": "markdown",
   "id": "d270a7ca-a7e9-457f-9bf4-9c73290f1dc3",
   "metadata": {},
   "source": [
    "From the last aggregations we can see that, for the 3897 who passed the test, only 126 were hired. Although there may be people that passed and are still waiting for results, it seems like a low number, only 3% of the overall candidates were hired at the moment.\n",
    "\n"
   ]
  },
  {
   "cell_type": "markdown",
   "id": "a093de2b-c274-4900-ac4e-81bbdeca7934",
   "metadata": {},
   "source": [
    "## Conclusion/Next steps\n",
    "\n"
   ]
  },
  {
   "cell_type": "markdown",
   "id": "63bebd65-f41c-463b-b55c-a82186750218",
   "metadata": {},
   "source": [
    "While the previous analysis tried to confront the most evident issues found within the data, there are still several things that one could do to further improve the analysis, that being said, all the previous information does give us a solid understanding of our candidates and guides us in a path in which we can improve this process.\n",
    "\n",
    "1. Raise the bar. We currently allow people with really low scores to pass the test, this metric could be modified to ease our recruiter's workload.\n",
    "2. Test Task analysis. Some of our tests are not used that often and having so many different variants may cause problems while running the hiring process, maybe simplifying here will yield better and simpler results\n",
    "3. Add more detail. We still can add other rows to our data set which would help to ease the understanding of the data. With our analysis, we realized that diving deeper into the data yielded interesting results. Making these results more readily available would be optimal\n",
    "4. ML algorithm. Although we’re dealing with a small data set with limited variables, it is still possible to implement a model that would help us predict how a certain candidate will perform using our existing data as a reference and using this new information as a helping guide to our recruitment team.\n",
    "\n",
    "Overall, we understood the meaning of our data and exploited our variables to get to know their importance. It is then good practice to discuss findings and generate business decisions with them.\n"
   ]
  },
  {
   "cell_type": "markdown",
   "id": "1a7e5947-2bd6-475c-9e0e-d8b811b279e8",
   "metadata": {},
   "source": [
    "## Unused/Extra analysis"
   ]
  },
  {
   "cell_type": "code",
   "execution_count": 34,
   "id": "a58aff7d-3d5f-48f9-80e6-dc71a76f427e",
   "metadata": {},
   "outputs": [
    {
     "data": {
      "text/html": [
       "<div>\n",
       "<style scoped>\n",
       "    .dataframe tbody tr th:only-of-type {\n",
       "        vertical-align: middle;\n",
       "    }\n",
       "\n",
       "    .dataframe tbody tr th {\n",
       "        vertical-align: top;\n",
       "    }\n",
       "\n",
       "    .dataframe thead th {\n",
       "        text-align: right;\n",
       "    }\n",
       "</style>\n",
       "<table border=\"1\" class=\"dataframe\">\n",
       "  <thead>\n",
       "    <tr style=\"text-align: right;\">\n",
       "      <th></th>\n",
       "      <th>sumsquare_error</th>\n",
       "      <th>aic</th>\n",
       "      <th>bic</th>\n",
       "      <th>kl_div</th>\n",
       "      <th>ks_statistic</th>\n",
       "      <th>ks_pvalue</th>\n",
       "    </tr>\n",
       "  </thead>\n",
       "  <tbody>\n",
       "    <tr>\n",
       "      <th>beta</th>\n",
       "      <td>0.061569</td>\n",
       "      <td>951.542863</td>\n",
       "      <td>-62765.279259</td>\n",
       "      <td>inf</td>\n",
       "      <td>0.181373</td>\n",
       "      <td>5.042406e-159</td>\n",
       "    </tr>\n",
       "  </tbody>\n",
       "</table>\n",
       "</div>"
      ],
      "text/plain": [
       "      sumsquare_error         aic           bic  kl_div  ks_statistic  \\\n",
       "beta         0.061569  951.542863 -62765.279259     inf      0.181373   \n",
       "\n",
       "          ks_pvalue  \n",
       "beta  5.042406e-159  "
      ]
     },
     "execution_count": 34,
     "metadata": {},
     "output_type": "execute_result"
    },
    {
     "data": {
      "image/png": "[encoded data removed]",
      "text/plain": [
       "<Figure size 432x288 with 1 Axes>"
      ]
     },
     "metadata": {
      "needs_background": "light"
     },
     "output_type": "display_data"
    }
   ],
   "source": [
    "# Trying to fit our numerical data to a distrbution since it vaguely resembled a beta function\n",
    "from fitter import Fitter, get_common_distributions, get_distributions\n",
    "score = df[\"Test_Task_Score\"].values\n",
    "\n",
    "f = Fitter(score,distributions=[\"beta\"])\n",
    "f.fit()\n",
    "f.summary()"
   ]
  },
  {
   "cell_type": "code",
   "execution_count": 35,
   "id": "d338cfbd-3ac5-4338-9b95-5cb70b6981d2",
   "metadata": {},
   "outputs": [
    {
     "data": {
      "text/plain": [
       "(0.7523703384377081,\n",
       " 0.7663982131455811,\n",
       " -5.930620274272936,\n",
       " 105.93062027427295)"
      ]
     },
     "execution_count": 35,
     "metadata": {},
     "output_type": "execute_result"
    }
   ],
   "source": [
    "f.fitted_param[\"beta\"]"
   ]
  }
 ],
 "metadata": {
  "kernelspec": {
   "display_name": "Python 3 (ipykernel)",
   "language": "python",
   "name": "python3"
  },
  "language_info": {
   "codemirror_mode": {
    "name": "ipython",
    "version": 3
   },
   "file_extension": ".py",
   "mimetype": "text/x-python",
   "name": "python",
   "nbconvert_exporter": "python",
   "pygments_lexer": "ipython3",
   "version": "3.9.12"
  }
 },
 "nbformat": 4,
 "nbformat_minor": 5
}
